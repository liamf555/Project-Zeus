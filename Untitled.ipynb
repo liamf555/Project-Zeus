{
 "cells": [
  {
   "cell_type": "code",
   "execution_count": 1,
   "id": "dcc4ff0d",
   "metadata": {},
   "outputs": [],
   "source": [
    "from pymavlink import mavutil\n",
    "from pymavlink.quaternion import QuaternionBase\n",
    "import numpy as np\n",
    "from scipy.spatial.transform import Rotation as R"
   ]
  },
  {
   "cell_type": "code",
   "execution_count": 2,
   "id": "0481eb06",
   "metadata": {},
   "outputs": [],
   "source": [
    "point_a = np.array([-30, 5, 5])\n",
    "point_b = np.array([-20, 5, 5])\n",
    "yaw_1 = 0\n",
    "yaw_2 = 0"
   ]
  },
  {
   "cell_type": "code",
   "execution_count": 9,
   "id": "fc6c81dc",
   "metadata": {},
   "outputs": [
    {
     "data": {
      "text/plain": [
       "array([29.99543085, -0.52357219,  0.        ])"
      ]
     },
     "execution_count": 9,
     "metadata": {},
     "output_type": "execute_result"
    }
   ],
   "source": [
    "point_a = np.array([0, 0, 0])\n",
    "point_b = np.array([30, 0, 0])\n",
    "yaw_1 = 1\n",
    "yaw_2 = 0\n",
    "\n",
    "\n",
    "start_position = np.array([0, 0, 0])\n",
    "\n",
    "class Transform():\n",
    "\n",
    "    def __init__(self, start_position):\n",
    "        self.o_agent_ekf = np.zeros(3)\n",
    "        self.rotation = np.identity(3)\n",
    "        self.offset_vector = np.array([start_position[0], start_position[1], start_position[2]])\n",
    "\n",
    "    def setup(self, position, yaw):\n",
    "        \n",
    "        yaw = np.radians(yaw)\n",
    "\n",
    "        position_ekf = np.transpose(position)\n",
    "\n",
    "        cy = np.cos(yaw)\n",
    "        sy = np.sin(yaw)\n",
    "\n",
    "        rot = np.array(\n",
    "            [[cy, -sy, 0],\n",
    "            [sy, cy, 0],\n",
    "            [0, 0, 1]]\n",
    "            )\n",
    "\n",
    "        offset_vector_rot = np.matmul(rot, self.offset_vector)\n",
    "        self.o_agent_ekf = position_ekf + offset_vector_rot\n",
    "\n",
    "        self.rotation = np.transpose(rot)\n",
    "\n",
    "    def apply(self, position, yaw):\n",
    "\n",
    "        position_ekf = np.transpose(position)\n",
    "\n",
    "        rel_pos_ekf = position_ekf - self.o_agent_ekf\n",
    "\n",
    "        pos_agent = np.matmul(self.rotation, rel_pos_ekf)\n",
    "\n",
    "\n",
    "        \n",
    "        return pos_agent\n",
    "\n",
    "transform = Transform(start_position)\n",
    "transform.setup(point_a, yaw_1)\n",
    "transform.apply(point_b, yaw_2)"
   ]
  },
  {
   "cell_type": "code",
   "execution_count": 16,
   "id": "461ee3e2",
   "metadata": {},
   "outputs": [],
   "source": []
  },
  {
   "cell_type": "code",
   "execution_count": 17,
   "id": "20b3c73e",
   "metadata": {},
   "outputs": [],
   "source": []
  },
  {
   "cell_type": "code",
   "execution_count": 18,
   "id": "9f8a5671",
   "metadata": {},
   "outputs": [
    {
     "data": {
      "text/plain": [
       "array([[-6.75262089,  0.        ,  0.        ],\n",
       "       [12.4258646 ,  0.        ,  0.        ],\n",
       "       [10.        ,  0.        ,  0.        ]])"
      ]
     },
     "execution_count": 18,
     "metadata": {},
     "output_type": "execute_result"
    }
   ],
   "source": []
  },
  {
   "cell_type": "code",
   "execution_count": null,
   "id": "ab5ff1e7",
   "metadata": {},
   "outputs": [],
   "source": []
  },
  {
   "cell_type": "code",
   "execution_count": null,
   "id": "11901f4c",
   "metadata": {},
   "outputs": [],
   "source": []
  },
  {
   "cell_type": "code",
   "execution_count": 81,
   "id": "2133cbef",
   "metadata": {},
   "outputs": [],
   "source": [
    "def quat_to_rot(quat):\n",
    "            \"\"\" A method to convert a quaternion to a rotation matrix\"\"\"\n",
    "            w = quat[0]\n",
    "            x = quat[1]\n",
    "            y = quat[2]\n",
    "            z = quat[3]\n",
    "            rot = np.array([[1-2*(y**2+z**2), 2*(x*y-z*w), 2*(x*z+y*w)],\n",
    "                            [2*(x*y+z*w), 1-2*(x**2+z**2), 2*(y*z-x*w)],\n",
    "                            [2*(x*z-y*w), 2*(y*z+x*w), 1-2*(x**2+y**2)]])\n",
    "            return rot"
   ]
  },
  {
   "cell_type": "code",
   "execution_count": 99,
   "id": "50ad003f",
   "metadata": {},
   "outputs": [],
   "source": [
    "\n",
    "def dcm_earth2body(roll, theta, yaw):\n",
    "#     roll  = np.radians(roll)\n",
    "#     theta = np.radians(pitch)\n",
    "#     yaw   = np.radians(yaw)\n",
    "\n",
    "\n",
    "    cr = np.cos(roll)\n",
    "    sr = np.sin(roll)\n",
    "\n",
    "    ct = np.cos(theta)\n",
    "    st = np.sin(theta)\n",
    "\n",
    "    cy = np.cos(yaw)\n",
    "    sy = np.sin(yaw)\n",
    "\n",
    "    # Build the rotation matrix\n",
    "    rot_x = np.array([\n",
    "        [ 1,   0,   0 ],\n",
    "        [ 0,  cr, -sr ],\n",
    "        [ 0,  sr,  cr ]\n",
    "        ])\n",
    "    rot_y = np.array([\n",
    "        [  ct,  0, st ],\n",
    "        [   0,  1,  0 ],\n",
    "        [ -st,  0, ct ]\n",
    "        ])\n",
    "    rot_z = np.array([\n",
    "        [ cy, -sy,  0 ],\n",
    "        [ sy,  cy,  0 ],\n",
    "        [  0,   0,  1 ]\n",
    "        ])\n",
    "\n",
    "    # Multiply the matrices together to get the combined matrix\n",
    "    rot = rot_z @ rot_y @ rot_x\n",
    "\n",
    "    return np.linalg.inv(rot)"
   ]
  },
  {
   "cell_type": "code",
   "execution_count": 62,
   "id": "61adb9eb",
   "metadata": {},
   "outputs": [
    {
     "data": {
      "text/plain": [
       "array([-7.07106781, -7.07106781,  0.        ])"
      ]
     },
     "execution_count": 62,
     "metadata": {},
     "output_type": "execute_result"
    }
   ],
   "source": [
    "position_1 = np.array([-20, 0, 0])\n",
    "rotation_1 = np.radians(np.array([0, 0, 45]))\n",
    "position_2 = np.array([-30, 0, 0])\n",
    "rotation_2 = np.radians(np.array([0, 0, 0]))\n",
    "\n",
    "# position_1_b = np.matmul(dcm_earth2body(*rotation_1), position_1)\n",
    "# print(position_1_b)\n",
    "\n",
    "# position_2_b = np.matmul(dcm_earth2body(*rotation_2), position_2)\n",
    "# print(position_2_b)\n",
    "\n",
    "\n",
    "# delta = position_2_b - position_1_b\n",
    "# print(delta)\n",
    "\n",
    "pos_delta = position_2 - position_1\n",
    "ang_delta = rotation_2 - rotation_1\n",
    "\n",
    "# pos_delta_b = np.matmul(dcm_earth2body(*ang_delta), pos_delta)\n",
    "# print(pos_delta_b)\n",
    "\n",
    "rotation_1_quat = QuaternionBase(rotation_1)\n",
    "rotation_2_quat = QuaternionBase(rotation_2)\n",
    "\n",
    "ang_delta_quat = rotation_2_quat * rotation_1_quat.inversed\n",
    "\n",
    "# print(ang_delta_quat.transform(pos_delta))\n",
    "\n",
    "rotation_scipy = R.from_euler('z', rotation_1[2], False)\n",
    "\n",
    "rotation_scipy.apply(pos_delta)\n",
    "# rotation_2_scipy = R.from_euler('z', rotation_2[2], False)\n",
    "\n",
    "# ang_delta_yaw = rotation_2_scipy - rotation_1_scipy\n",
    "\n",
    "# print((quat_to_rot(rotation_1_quat)) @ position_1)\n",
    "# print(rotation_1_quat.transform(position_1))"
   ]
  },
  {
   "cell_type": "code",
   "execution_count": 39,
   "id": "17b575e3",
   "metadata": {},
   "outputs": [
    {
     "data": {
      "text/plain": [
       "array([5., 0., 0.])"
      ]
     },
     "execution_count": 39,
     "metadata": {},
     "output_type": "execute_result"
    }
   ],
   "source": [
    "[ 3.53553391 -3.53553391  0.        ]"
   ]
  },
  {
   "cell_type": "code",
   "execution_count": 40,
   "id": "52381129",
   "metadata": {},
   "outputs": [
    {
     "data": {
      "text/plain": [
       "array([10.,  0.,  0.])"
      ]
     },
     "execution_count": 40,
     "metadata": {},
     "output_type": "execute_result"
    }
   ],
   "source": []
  },
  {
   "cell_type": "code",
   "execution_count": 38,
   "id": "0ebf2b32",
   "metadata": {},
   "outputs": [
    {
     "data": {
      "text/plain": [
       "array([5., 0., 0.])"
      ]
     },
     "execution_count": 38,
     "metadata": {},
     "output_type": "execute_result"
    }
   ],
   "source": []
  },
  {
   "cell_type": "code",
   "execution_count": null,
   "id": "20f95603",
   "metadata": {},
   "outputs": [],
   "source": [
    "d"
   ]
  }
 ],
 "metadata": {
  "kernelspec": {
   "display_name": "Python 3 (ipykernel)",
   "language": "python",
   "name": "python3"
  },
  "language_info": {
   "codemirror_mode": {
    "name": "ipython",
    "version": 3
   },
   "file_extension": ".py",
   "mimetype": "text/x-python",
   "name": "python",
   "nbconvert_exporter": "python",
   "pygments_lexer": "ipython3",
   "version": "3.9.0"
  }
 },
 "nbformat": 4,
 "nbformat_minor": 5
}
