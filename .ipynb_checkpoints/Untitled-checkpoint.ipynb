{
 "cells": [
  {
   "cell_type": "code",
   "execution_count": 1,
   "id": "1146cff4",
   "metadata": {},
   "outputs": [],
   "source": [
    "from pymavlink import mavutil\n",
    "from pymavlink.quaternion import QuaternionBase\n",
    "import numpy as np"
   ]
  },
  {
   "cell_type": "code",
   "execution_count": 2,
   "id": "dbb738ad",
   "metadata": {},
   "outputs": [
    {
     "ename": "NameError",
     "evalue": "name 'point_b' is not defined",
     "output_type": "error",
     "traceback": [
      "\u001b[0;31m---------------------------------------------------------------------------\u001b[0m",
      "\u001b[0;31mNameError\u001b[0m                                 Traceback (most recent call last)",
      "Cell \u001b[0;32mIn[2], line 2\u001b[0m\n\u001b[1;32m      1\u001b[0m point_a \u001b[38;5;241m=\u001b[39m np\u001b[38;5;241m.\u001b[39marray([\u001b[38;5;241m-\u001b[39m\u001b[38;5;241m30\u001b[39m, \u001b[38;5;241m5\u001b[39m, \u001b[38;5;241m5\u001b[39m])\n\u001b[0;32m----> 2\u001b[0m \u001b[43mpoint_b\u001b[49m\n",
      "\u001b[0;31mNameError\u001b[0m: name 'point_b' is not defined"
     ]
    }
   ],
   "source": [
    "point_a = np.array([-30, 5, 5])\n",
    "point_b = np.array([-20, 5, 5])\n",
    "yaw = 5"
   ]
  },
  {
   "cell_type": "code",
   "execution_count": 5,
   "id": "defe4d78",
   "metadata": {},
   "outputs": [],
   "source": [
    "start_position = np.array([0, 0, 0])\n",
    "\n",
    "class Transform():\n",
    "\n",
    "    def __init__(self, start_position):\n",
    "        self.o_agent_ekf = np.zeros((3,1))\n",
    "        self.rotation = np.identity(3)\n",
    "        self.offset_vector = np.array([[start_position[0]], [0], [start_position[1]]])\n",
    "\n",
    "    def setup(self, state):\n",
    "\n",
    "        position_ekf = np.transpose(state[:,0:3])\n",
    "        yaw = state[0,5]\n",
    "\n",
    "        cy = np.cos(yaw)\n",
    "        sy = np.sin(yaw)\n",
    "\n",
    "        rot = np.array([\n",
    "            [cy, -sy, 0],\n",
    "            [sy, cy, 0],\n",
    "            [0, 0, 1]\n",
    "            ])\n",
    "\n",
    "        offset_vector_rot = np.matmul(rot, self.offset_vector)\n",
    "        self.o_agent_ekf = position_ekf + offset_vector_rot\n",
    "\n",
    "        self.rotation = np.transpose(rot)\n",
    "\n",
    "    def apply(self, position, yaw):\n",
    "\n",
    "        position_ekf = np.transpose(state[:,0:3])\n",
    "\n",
    "        rel_pos_ekf = position_ekf - self.o_agent_ekf\n",
    "\n",
    "        pos_agent = np.matmul(self.rotation, rel_pos_ekf)\n",
    "\n",
    "        pos_agent[1] = 0\n",
    "\n",
    "        state[:,0:3] = np.transpose(pos_agent)\n",
    "\n",
    "        return state\n"
   ]
  },
  {
   "cell_type": "code",
   "execution_count": 7,
   "id": "995147dc",
   "metadata": {},
   "outputs": [],
   "source": [
    "transform = Transform(start_position)"
   ]
  },
  {
   "cell_type": "code",
   "execution_count": 8,
   "id": "497c8248",
   "metadata": {},
   "outputs": [
    {
     "ename": "TypeError",
     "evalue": "setup() missing 1 required positional argument: 'state'",
     "output_type": "error",
     "traceback": [
      "\u001b[0;31m---------------------------------------------------------------------------\u001b[0m",
      "\u001b[0;31mTypeError\u001b[0m                                 Traceback (most recent call last)",
      "Cell \u001b[0;32mIn[8], line 1\u001b[0m\n\u001b[0;32m----> 1\u001b[0m \u001b[43mtransform\u001b[49m\u001b[38;5;241;43m.\u001b[39;49m\u001b[43msetup\u001b[49m\u001b[43m(\u001b[49m\u001b[43m)\u001b[49m\n",
      "\u001b[0;31mTypeError\u001b[0m: setup() missing 1 required positional argument: 'state'"
     ]
    }
   ],
   "source": [
    "transform.setup()"
   ]
  },
  {
   "cell_type": "code",
   "execution_count": 13,
   "id": "2e5867d4",
   "metadata": {},
   "outputs": [],
   "source": [
    "\n",
    "def dcm_earth2body(self):\n",
    "    roll  = np.radians(0)\n",
    "    theta = np.radians(0)\n",
    "    yaw   = np.radians(45)\n",
    "\n",
    "\n",
    "    cr = np.cos(roll)\n",
    "    sr = np.sin(roll)\n",
    "\n",
    "    ct = np.cos(theta)\n",
    "    st = np.sin(theta)\n",
    "\n",
    "    cy = np.cos(yaw)\n",
    "    sy = np.sin(yaw)\n",
    "\n",
    "    # Build the rotation matrix\n",
    "    rot_x = np.array([\n",
    "        [ 1,   0,   0 ],\n",
    "        [ 0,  cr, -sr ],\n",
    "        [ 0,  sr,  cr ]\n",
    "        ])\n",
    "    rot_y = np.array([\n",
    "        [  ct,  0, st ],\n",
    "        [   0,  1,  0 ],\n",
    "        [ -st,  0, ct ]\n",
    "        ])\n",
    "    rot_z = np.array([\n",
    "        [ cy, -sy,  0 ],\n",
    "        [ sy,  cy,  0 ],\n",
    "        [  0,   0,  1 ]\n",
    "        ])\n",
    "\n",
    "    # Multiply the matrices together to get the combined matrix\n",
    "    rot = rot_z @ rot_y @ rot_x\n",
    "\n",
    "    return np.linalg.inv(rot)"
   ]
  },
  {
   "cell_type": "code",
   "execution_count": 17,
   "id": "436685f3",
   "metadata": {},
   "outputs": [
    {
     "ename": "ValueError",
     "evalue": "matmul: Input operand 0 does not have enough dimensions (has 0, gufunc core with signature (n?,k),(k,m?)->(n?,m?) requires 1)",
     "output_type": "error",
     "traceback": [
      "\u001b[0;31m---------------------------------------------------------------------------\u001b[0m",
      "\u001b[0;31mValueError\u001b[0m                                Traceback (most recent call last)",
      "Cell \u001b[0;32mIn[17], line 2\u001b[0m\n\u001b[1;32m      1\u001b[0m position_e \u001b[38;5;241m=\u001b[39m np\u001b[38;5;241m.\u001b[39marray([\u001b[38;5;241m5\u001b[39m, \u001b[38;5;241m0\u001b[39m, \u001b[38;5;241m0\u001b[39m])\n\u001b[0;32m----> 2\u001b[0m \u001b[43mnp\u001b[49m\u001b[38;5;241;43m.\u001b[39;49m\u001b[43mmatmul\u001b[49m\u001b[43m(\u001b[49m\u001b[43mdcm_earth2body\u001b[49m\u001b[43m,\u001b[49m\u001b[43m \u001b[49m\u001b[43mposition_e\u001b[49m\u001b[38;5;241;43m.\u001b[39;49m\u001b[43mT\u001b[49m\u001b[43m)\u001b[49m\n",
      "\u001b[0;31mValueError\u001b[0m: matmul: Input operand 0 does not have enough dimensions (has 0, gufunc core with signature (n?,k),(k,m?)->(n?,m?) requires 1)"
     ]
    }
   ],
   "source": [
    "position_e = np.array([5, 0, 0])\n",
    "np.matmul(dcm_earth2body, position_e.T) "
   ]
  },
  {
   "cell_type": "code",
   "execution_count": null,
   "id": "0ee1273d",
   "metadata": {},
   "outputs": [],
   "source": []
  }
 ],
 "metadata": {
  "kernelspec": {
   "display_name": "Python 3 (ipykernel)",
   "language": "python",
   "name": "python3"
  },
  "language_info": {
   "codemirror_mode": {
    "name": "ipython",
    "version": 3
   },
   "file_extension": ".py",
   "mimetype": "text/x-python",
   "name": "python",
   "nbconvert_exporter": "python",
   "pygments_lexer": "ipython3",
   "version": "3.9.0"
  }
 },
 "nbformat": 4,
 "nbformat_minor": 5
}
